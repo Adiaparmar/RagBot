{
 "cells": [
  {
   "cell_type": "code",
   "execution_count": null,
   "metadata": {},
   "outputs": [],
   "source": [
    "import os\n",
    "from dotenv import load_dotenv\n",
    "\n",
    "load_dotenv()\n",
    "\n",
    "GOOGLE_API_KEY = os.getenv(\"GOOGLE_API_KEY\")\n",
    "\n",
    "MODEL = \"gemini-1.5-flash\"\n",
    "# MODEL = \"llama3\""
   ]
  },
  {
   "cell_type": "code",
   "execution_count": null,
   "metadata": {},
   "outputs": [
    {
     "name": "stderr",
     "output_type": "stream",
     "text": [
      "C:\\Users\\adiap\\AppData\\Local\\Temp\\ipykernel_18244\\4276412153.py:14: LangChainDeprecationWarning: The class `OllamaEmbeddings` was deprecated in LangChain 0.3.1 and will be removed in 1.0.0. An updated version of the class exists in the :class:`~langchain-ollama package and should be used instead. To use it run `pip install -U :class:`~langchain-ollama` and import as `from :class:`~langchain_ollama import OllamaEmbeddings``.\n",
      "  embeddings = OllamaEmbeddings(model=\"nomic-embed-text\",base_url=\"http://localhost:11434\")\n"
     ]
    }
   ],
   "source": [
    "from langchain_google_genai import ChatGoogleGenerativeAI\n",
    "from langchain_google_genai import GoogleGenerativeAIEmbeddings\n",
    "from langchain_ollama import OllamaLLM as Ollama\n",
    "from langchain_community.embeddings import OllamaEmbeddings\n",
    "\n",
    "if MODEL.startswith(\"gemini\"):\n",
    "  model = ChatGoogleGenerativeAI(api_key=GOOGLE_API_KEY, model=MODEL)\n",
    "  embeddings = GoogleGenerativeAIEmbeddings(\n",
    "    model=\"models/embedding-001\",\n",
    "    google_api_key=os.getenv(\"GOOGLE_API_KEY\")\n",
    "  )\n",
    "else:\n",
    "  model = Ollama(model=MODEL, base_url=\"http://localhost:11434\")\n",
    "  embeddings = OllamaEmbeddings(model=\"nomic-embed-text\",base_url=\"http://localhost:11434\")\n",
    "\n",
    "model.invoke(\"tell me a joke\")"
   ]
  },
  {
   "cell_type": "code",
   "execution_count": null,
   "metadata": {},
   "outputs": [
    {
     "data": {
      "text/plain": [
       "\"Why don't scientists trust atoms? \\n\\nBecause they make up everything!\""
      ]
     },
     "execution_count": 3,
     "metadata": {},
     "output_type": "execute_result"
    }
   ],
   "source": [
    "from langchain_core.output_parsers import StrOutputParser\n",
    "\n",
    "parser = StrOutputParser()\n",
    "\n",
    "chain = model | parser\n",
    "chain.invoke(\"tell me a joke\")"
   ]
  },
  {
   "cell_type": "code",
   "execution_count": null,
   "metadata": {},
   "outputs": [
    {
     "data": {
      "text/plain": [
       "[Document(metadata={'producer': 'Skia/PDF m133', 'creator': 'Mozilla/5.0 (Windows NT 10.0; Win64; x64) AppleWebKit/537.36 (KHTML, like Gecko) Chrome/133.0.0.0 Safari/537.36', 'creationdate': '2025-02-21T05:58:26+00:00', 'title': 'Definitions and basic concepts | DevOps with Docker', 'moddate': '2025-02-21T05:58:26+00:00', 'source': 'Docker.pdf', 'total_pages': 13, 'page': 0, 'page_label': '1'}, page_content='Part 1 Definitions and basic concepts\\nDefinitions and basic concepts\\nWhat is DevOps?\\nBefore we get started with Docker let\\'s lay the groundwork for learning the right mindset.\\nDefining DevOps is not a trivial task but the term itself consists of two parts, Dev and Ops. Dev\\nrefers to the development of software and Ops to operations. Simple definition for DevOps\\nwould be that it means the release, configuring, and monitoring of software is in the hands of the\\nvery people who develop it.\\nA more formal definition is offered by Jabbari et al.: \"DevOps is a development methodology\\naimed at bridging the gap between Development and Operations, emphasizing communication\\nand collaboration, continuous integration, quality assurance and delivery with automated\\ndeployment utilizing a set of development practices\".\\nImage of DevOps toolchain by Kharnagy from wikipedia\\nSometimes DevOps is regarded as a role that one person or a team can fill. Here\\'s some external\\nmotivation to learn DevOps skills: Salary by Developer Type in StackOverflow survey. You will not\\n2/21/25, 11:28 AM Definitions and basic concepts | DevOps with Docker\\nhttps://devopswithdocker.com/part-1/section-1 1/13'),\n",
       " Document(metadata={'producer': 'Skia/PDF m133', 'creator': 'Mozilla/5.0 (Windows NT 10.0; Win64; x64) AppleWebKit/537.36 (KHTML, like Gecko) Chrome/133.0.0.0 Safari/537.36', 'creationdate': '2025-02-21T05:58:26+00:00', 'title': 'Definitions and basic concepts | DevOps with Docker', 'moddate': '2025-02-21T05:58:26+00:00', 'source': 'Docker.pdf', 'total_pages': 13, 'page': 1, 'page_label': '2'}, page_content='become a DevOps specialist solely from this course, but you will get the skills to help you\\nnavigate in the increasingly containerized world.\\nDuring this course we will focus mainly on the packaging, releasing and configuring of the\\napplications. You will not be asked to plan or create new software. We will go over Docker and a\\nfew technologies that you may see in your daily life, these include e.g. Redis and Postgres. See\\nStackOverflow survey on how closely they correlate these technologies.\\nWhat is Docker?\\n\"Docker is a set of platform as a service (PaaS) products that use OS-level virtualization to deliver\\nsoftware in packages called containers.\" - from Wikipedia.\\nSo stripping the jargon we get two definitions:\\n1. Docker is a set of tools to deliver software in containers.\\n2. Containers are packages of software.\\nThe above image illustrates how containers include the application and its dependencies. These\\ncontainers are isolated so that they don\\'t interfere with each other or the software running\\noutside of the containers. In case you need to interact with them or enable interactions between\\nthem, Docker offers tools to do so.\\nBenefits from containers\\n2/21/25, 11:28 AM Definitions and basic concepts | DevOps with Docker\\nhttps://devopswithdocker.com/part-1/section-1 2/13'),\n",
       " Document(metadata={'producer': 'Skia/PDF m133', 'creator': 'Mozilla/5.0 (Windows NT 10.0; Win64; x64) AppleWebKit/537.36 (KHTML, like Gecko) Chrome/133.0.0.0 Safari/537.36', 'creationdate': '2025-02-21T05:58:26+00:00', 'title': 'Definitions and basic concepts | DevOps with Docker', 'moddate': '2025-02-21T05:58:26+00:00', 'source': 'Docker.pdf', 'total_pages': 13, 'page': 2, 'page_label': '3'}, page_content='Containers package applications. Sounds simple, right? To illustrate the potential benefits let\\'s\\ntalk about different scenarios.\\nScenario 1: Works on my machine\\nLet\\'s first take a closer look into what happens in web development without containers following\\nthe chain above starting from \"Plan\".\\nFirst you plan an application. Then your team of 1-n developers create the software. It works on\\nyour computer. It may even go through a testing pipeline working perfectly. You send it to the\\nserver and...\\n...it does not work.\\nThis is known as the \"works on my machine\" problem. The only way to solve this is by finding\\nout what in tarnation the developer had installed on their machine that made the application\\nwork.\\nContainers solve this problem by allowing the developer to personally run the application inside\\na container, which then includes all of the dependencies required for the app to work.\\nYou may still occasionally hear about \"works in my container\" issues - these are often just\\nusage errors.\\nScenario 2: Isolated environments\\nYou have 5 different Python applications. You need to deploy them to a server that already has an\\napplication requiring Python 2.7 and of course none of your applications are 2.7. What do you\\ndo?\\nSince containers package the software with all of its dependencies, you package the existing app\\nand all 5 new ones with their respective Python versions and that\\'s it.\\nI can only imagine the disaster that would result if you try to run them side by side on the same\\nmachine without isolating the environments. It sounds more like a time bomb. Sometimes\\ndifferent parts of a system may change over time, possibly leading to the application not\\nworking. These changes may be anything from an operating system update to changes in\\ndependencies.\\nScenario 3: Development\\n2/21/25, 11:28 AM Definitions and basic concepts | DevOps with Docker\\nhttps://devopswithdocker.com/part-1/section-1 3/13'),\n",
       " Document(metadata={'producer': 'Skia/PDF m133', 'creator': 'Mozilla/5.0 (Windows NT 10.0; Win64; x64) AppleWebKit/537.36 (KHTML, like Gecko) Chrome/133.0.0.0 Safari/537.36', 'creationdate': '2025-02-21T05:58:26+00:00', 'title': 'Definitions and basic concepts | DevOps with Docker', 'moddate': '2025-02-21T05:58:26+00:00', 'source': 'Docker.pdf', 'total_pages': 13, 'page': 3, 'page_label': '4'}, page_content=\"You are brought into a dev team. They run a web app that uses other services when running: a\\nPostgres database, MongoDB, Redis and a number of others. Simple enough, you install whatever\\nis required to run the application and all of the applications that it depends on...\\nWhat a headache to start installing and then managing the development databases on your own\\nmachine.\\nThankfully, by the time you are told to do that you are already a Docker expert. With one\\ncommand you get an isolated application, like Postgres or Mongo, running in your machine.\\nScenario 4: Scaling\\nStarting and stopping a Docker container has little overhead. But when you run your own Netflix\\nor Facebook, you want to meet the changing demand. With some advanced tooling that we will\\nlearn about in parts 2 and 3, we can spin up multiple containers instantly and load balance traffic\\nbetween them.\\nContainer orchestration will be discussed in parts 2 and 3. But the simplest example: what\\nhappens when one application dies? The orchestration system notices it, splits traffic between the\\nworking replicas, and spins up a new container to replace the dead one.\\nVirtual machines\\nIsn't there already a solution for this? Virtual Machines are not the same as Containers - they\\nsolve different problems. We will not be looking into Virtual Machines in this course. However,\\nhere's a diagram to give you a rough idea of the difference.\\n2/21/25, 11:28 AM Definitions and basic concepts | DevOps with Docker\\nhttps://devopswithdocker.com/part-1/section-1 4/13\"),\n",
       " Document(metadata={'producer': 'Skia/PDF m133', 'creator': 'Mozilla/5.0 (Windows NT 10.0; Win64; x64) AppleWebKit/537.36 (KHTML, like Gecko) Chrome/133.0.0.0 Safari/537.36', 'creationdate': '2025-02-21T05:58:26+00:00', 'title': 'Definitions and basic concepts | DevOps with Docker', 'moddate': '2025-02-21T05:58:26+00:00', 'source': 'Docker.pdf', 'total_pages': 13, 'page': 4, 'page_label': '5'}, page_content='The difference between a virtual machine and Docker solutions arises after moving Application A\\nto an incompatible system \"Operating System B\". Running software on top of containers is\\nalmost as efficient as running it \"natively\" outside containers, at least when compared to virtual\\nmachines.\\nSo containers have a direct access to your own Operating Systems kernel and resources. The\\nresource usage overhead of using containers is minimized, as the applications behave as if there\\nwere no extra layers. As Docker is using Linux kernels, Mac and Windows can\\'t run it without a\\nfew hoops and each have their own solutions on how to run Docker.\\nRunning containers\\nYou already have Docker installed so let\\'s run our first container!\\nThe hello-world is a simple application that outputs \"Hello from Docker!\" and some additional\\ninfo.\\nSimply run docker container run hello-world, the output will be the following:\\n$ docker container run hello-world\\n  Unable to find image \\'hello-world:latest\\' locally\\n  latest: Pulling from library/hello-world\\n2/21/25, 11:28 AM Definitions and basic concepts | DevOps with Docker\\nhttps://devopswithdocker.com/part-1/section-1 5/13'),\n",
       " Document(metadata={'producer': 'Skia/PDF m133', 'creator': 'Mozilla/5.0 (Windows NT 10.0; Win64; x64) AppleWebKit/537.36 (KHTML, like Gecko) Chrome/133.0.0.0 Safari/537.36', 'creationdate': '2025-02-21T05:58:26+00:00', 'title': 'Definitions and basic concepts | DevOps with Docker', 'moddate': '2025-02-21T05:58:26+00:00', 'source': 'Docker.pdf', 'total_pages': 13, 'page': 5, 'page_label': '6'}, page_content='The command docker container run has a shorthand form docker run, so instead of\\nwe could do the same with less typing and use just\\nIf you already ran hello-world previously it will skip the first 5 lines. The first 5 lines tell that an\\nimage \"hello-world:latest\" wasn\\'t found and it was downloaded. Try it again:\\n  b8dfde127a29: Pull complete\\n  Digest: \\nsha256:308866a43596e83578c7dfa15e27a73011bdd402185a84c5cd7f32a88b501a24\\n  Status: Downloaded newer image for hello-world:latest\\n  Hello from Docker!\\n  This message shows that your installation appears to be working correctly.\\n  To generate this message, Docker took the following steps:\\n   1. The Docker client contacted the Docker daemon.\\n   2. The Docker daemon pulled the \"hello-world\" image from the Docker Hub.\\n      (amd64)\\n   3. The Docker daemon created a new container from that image which runs the\\n      executable that produces the output you are currently reading.\\n   4. The Docker daemon streamed that output to the Docker client, which sent \\nit\\n      to your terminal.\\n  To try something more ambitious, you can run an Ubuntu container with:\\n   $ docker run -it ubuntu bash\\n  Share images, automate workflows, and more with a free Docker ID:\\n   https://hub.docker.com/\\n  For more examples and ideas, visit:\\n   https://docs.docker.com/get-started/\\n$ docker container run hello-world\\n$ docker run hello-world\\n$ docker run hello-world\\n  Hello from Docker!\\n  ...\\n2/21/25, 11:28 AM Definitions and basic concepts | DevOps with Docker\\nhttps://devopswithdocker.com/part-1/section-1 6/13'),\n",
       " Document(metadata={'producer': 'Skia/PDF m133', 'creator': 'Mozilla/5.0 (Windows NT 10.0; Win64; x64) AppleWebKit/537.36 (KHTML, like Gecko) Chrome/133.0.0.0 Safari/537.36', 'creationdate': '2025-02-21T05:58:26+00:00', 'title': 'Definitions and basic concepts | DevOps with Docker', 'moddate': '2025-02-21T05:58:26+00:00', 'source': 'Docker.pdf', 'total_pages': 13, 'page': 6, 'page_label': '7'}, page_content=\"It found the image locally so it skipped right to running the hello-world.\\nSECURITY REMINDER: DOWNLOADING FROM THE INTERNET\\nKeep in mind that we are downloading stuff from the internet. Double checking what you're\\nrunning is always a good idea.\\nSo that's an image?\\nImage and containers\\nSince we already know what containers are it's easier to explain images through them: Containers\\nare instances of images. A basic mistake is to confuse images and containers.\\nCooking metaphor:\\nThink of a container as a ready-to-eat meal that you can simply heat up and consume. An image,\\non the other hand, is the recipe or ingredients for that meal.\\nSo just like how you need a recipe and ingredients to make a meal, you need an image and a\\ncontainer runtime (Docker engine) to create a container. The image provides all the necessary\\ninstructions and dependencies for the container to run, just like a recipe provides the steps and\\ningredients to make a meal.\\nIn short, an image is like a blueprint or template, while a container is an instance of that blueprint\\nor template.\\nImage\\nA Docker image is a file. An image never changes; you can not edit an existing file. Creating a\\nnew image happens by starting from a base image and adding new layers to it. We will talk\\nabout layers later, but you should think of images as immutable, they can not be changed after\\nthey are created.\\nList all your images with docker image ls\\n$ docker image ls\\n  REPOSITORY      TAG      IMAGE ID       CREATED         SIZE\\n  hello-world     latest   d1165f221234   9 days ago      13.3kB\\n2/21/25, 11:28 AM Definitions and basic concepts | DevOps with Docker\\nhttps://devopswithdocker.com/part-1/section-1 7/13\"),\n",
       " Document(metadata={'producer': 'Skia/PDF m133', 'creator': 'Mozilla/5.0 (Windows NT 10.0; Win64; x64) AppleWebKit/537.36 (KHTML, like Gecko) Chrome/133.0.0.0 Safari/537.36', 'creationdate': '2025-02-21T05:58:26+00:00', 'title': 'Definitions and basic concepts | DevOps with Docker', 'moddate': '2025-02-21T05:58:26+00:00', 'source': 'Docker.pdf', 'total_pages': 13, 'page': 7, 'page_label': '8'}, page_content=\"Containers are created from images, so when we ran hello-world twice we downloaded one\\nimage and created two of them from the single image.\\nWell then, if images are used to create containers, where do images come from? This image file is\\nbuilt from an instructional file named Dockerfile that is parsed when you run \\ndocker image\\nbuild.\\nDockerfile is a file that is by default called Dockerfile, that looks something like this\\nDockerfile\\nand is the instruction set for building an image. We will look into Dockerfiles later when we get to\\nbuild our own image.\\nIf we go back to the cooking metaphor, as Dockerfile provides the instructions needed to build\\nan image you can think of that as the recipe for images. We're now 2 recipes deep, as Dockerfile\\nis the recipe for an image and an image is the recipe for a container. The only difference is that\\nDockerfile is written by us, whereas image is written by our machine based on the Dockerfile!\\nContainer\\nContainers only contain what is required to execute an application; and you can start, stop and\\ninteract with them. They are isolated environments in the host machine with the ability to\\ninteract with each other and the host machine itself via defined methods (TCP/UDP).\\nList all your containers with docker container ls\\nWithout -a flag it will only print running containers. The hello-worlds we ran already exited.\\nFROM <image>:<tag>\\nRUN <install some dependencies>\\nCMD <command that is executed on `docker container run`>\\n$ docker container ls\\n  CONTAINER ID   IMAGE     COMMAND   CREATED   STATUS    PORTS     NAMES\\n$ docker container ls -a\\n  CONTAINER ID   IMAGE           COMMAND      CREATED          STATUS            \\n2/21/25, 11:28 AM Definitions and basic concepts | DevOps with Docker\\nhttps://devopswithdocker.com/part-1/section-1 8/13\"),\n",
       " Document(metadata={'producer': 'Skia/PDF m133', 'creator': 'Mozilla/5.0 (Windows NT 10.0; Win64; x64) AppleWebKit/537.36 (KHTML, like Gecko) Chrome/133.0.0.0 Safari/537.36', 'creationdate': '2025-02-21T05:58:26+00:00', 'title': 'Definitions and basic concepts | DevOps with Docker', 'moddate': '2025-02-21T05:58:26+00:00', 'source': 'Docker.pdf', 'total_pages': 13, 'page': 8, 'page_label': '9'}, page_content='The command docker container ls has also a shorter form docker ps that is preferred by\\nmany since it requires much less typing...\\nDocker CLI basics\\nWe are using the command line to interact with the \"Docker Engine\" that is made up of 3 parts:\\nCLI, a REST API and Docker daemon. When you run a command, e.g. docker container run,\\nbehind the scenes the client sends a request through the REST API to the Docker daemon which\\ntakes care of images, containers and other resources.\\nYou can read the docs for more information. But even though you will find over 50 commands in\\nthe documentation, only a handful of them is needed for general use. There\\'s a list of the most\\ncommonly used basic commands at the end of this section.\\nOne of them is already familiar: docker container run <image>, which instructs daemon to\\ncreate a container from the image and downloading the image if it is not available.\\nLet\\'s remove the image since we will not need it anymore, docker image rm hello-world\\nsounds about right. However, this should fail with the following error:\\nThis means that a container that was created from the image hello-world still exists and that\\nremoving hello-world could have consequences. So before removing images, you should have\\nthe referencing container removed first. Forcing is usually a bad idea, especially as we are still\\nlearning.\\nRun docker container ls -a to list all containers again.\\nPORTS     NAMES\\n  b7a53260b513   hello-world     \"/hello\"     5 minutes ago    Exited (0) 5 \\nminutes ago              brave_bhabha\\n  1cd4cb01482d   hello-world     \"/hello\"     8 minutes ago    Exited (0) 8 \\nminutes ago              vibrant_bell\\n$ docker image rm hello-world\\n  Error response from daemon: conflict: unable to remove repository reference \\n\"hello-world\" (must force) - container <container ID> is using its referenced \\nimage <image ID>\\n$ docker container ls -a\\n  CONTAINER ID   IMAGE           COMMAND        CREATED          STATUS          \\n2/21/25, 11:28 AM Definitions and basic concepts | DevOps with Docker\\nhttps://devopswithdocker.com/part-1/section-1 9/13'),\n",
       " Document(metadata={'producer': 'Skia/PDF m133', 'creator': 'Mozilla/5.0 (Windows NT 10.0; Win64; x64) AppleWebKit/537.36 (KHTML, like Gecko) Chrome/133.0.0.0 Safari/537.36', 'creationdate': '2025-02-21T05:58:26+00:00', 'title': 'Definitions and basic concepts | DevOps with Docker', 'moddate': '2025-02-21T05:58:26+00:00', 'source': 'Docker.pdf', 'total_pages': 13, 'page': 9, 'page_label': '10'}, page_content='Notice that containers have a CONTAINER ID and NAME. The names are currently autogenerated.\\nWhen we have a lot of different containers, we can use grep (or another similar utility) to filter\\nthe list:\\nLet\\'s remove the container with docker container rm command. It accepts a container\\'s name\\nor ID as its arguments.\\nNotice that the command also works with the first few characters of an ID. For example, if a\\ncontainer\\'s ID is 3d4bab29dd67, you can use docker container rm 3d to delete it. Using the\\nshorthand for the ID will not delete multiple containers, so if you have two IDs starting with 3d, a\\nwarning will be printed, and neither will be deleted. You can also use multiple arguments: \\ndocker\\ncontainer rm id1 id2 id3\\nIf you have hundreds of stopped containers and you wish to delete them all, you should use\\ndocker container prune. Prune can also be used to remove \"dangling\" images with \\ndocker\\nimage prune. Dangling images are images that do not have a name and are not used. They can\\nbe created manually and are automatically generated during build. Removing them just saves\\nsome space.\\nAnd finally you can use docker system prune to clear almost everything. We aren\\'t yet familiar\\nwith the exceptions that docker system prune does not remove.\\nAfter removing all of the hello-world containers, run docker image rm hello-world to delete\\nthe image. You can use docker image ls to confirm that the image is not listed.\\nYou can also use the image pull command to download images without running them: \\ndocker\\nimage pull hello-world\\nLet\\'s try starting a new container:\\nPORTS     NAMES\\n  b7a53260b513   hello-world     \"/hello\"       35 minutes ago   Exited (0) 35 \\nminutes ago             brave_bhabha\\n  1cd4cb01482d   hello-world     \"/hello\"       41 minutes ago   Exited (0) 41 \\nminutes ago             vibrant_bell\\n$ docker container ls -a | grep hello-world\\n$ docker run nginx\\n2/21/25, 11:28 AM Definitions and basic concepts | DevOps with Docker\\nhttps://devopswithdocker.com/part-1/section-1 10/13'),\n",
       " Document(metadata={'producer': 'Skia/PDF m133', 'creator': 'Mozilla/5.0 (Windows NT 10.0; Win64; x64) AppleWebKit/537.36 (KHTML, like Gecko) Chrome/133.0.0.0 Safari/537.36', 'creationdate': '2025-02-21T05:58:26+00:00', 'title': 'Definitions and basic concepts | DevOps with Docker', 'moddate': '2025-02-21T05:58:26+00:00', 'source': 'Docker.pdf', 'total_pages': 13, 'page': 10, 'page_label': '11'}, page_content='With some containers the command line appears to freeze after pulling and starting the\\ncontainer. This might be because that particular container is now running in the current terminal,\\nblocking the input. You can observe this with docker container ls from another terminal. In\\nthis situation one can exit by pressing control + c and try again with the -d flag.\\nThe -d flag starts a container detached, meaning that it runs in the background. The container\\ncan be seen with\\nNow if we try to remove it, it will fail:\\nWe should first stop the container using docker container stop blissful_wright, and then\\nuse rm.\\nForcing is also a possibility and we can use docker container rm --force blissful_wright\\nsafely in this case. Again for both of them instead of name we could have used the ID or parts of\\nit, e.g. c77.\\nIt\\'s common for the Docker daemon to become clogged over time with old images and\\ncontainers.\\nMost used commands\\n$ docker run -d nginx\\n  c7749cf989f61353c1d433466d9ed6c45458291106e8131391af972c287fb0e5\\n$ docker container ls\\n  CONTAINER ID        IMAGE               COMMAND                  CREATED       \\nSTATUS              PORTS               NAMES\\n  c7749cf989f6        nginx               \"nginx -g \\'daemon of…\"   35 seconds \\nago      Up 34 seconds       80/tcp              blissful_wright\\n$ docker container rm blissful_wright\\n  Error response from daemon: You cannot remove a running container \\nc7749cf989f61353c1d433466d9ed6c45458291106e8131391af972c287fb0e5. Stop the \\ncontainer before attempting removal or force remove\\n2/21/25, 11:28 AM Definitions and basic concepts | DevOps with Docker\\nhttps://devopswithdocker.com/part-1/section-1 11/13'),\n",
       " Document(metadata={'producer': 'Skia/PDF m133', 'creator': 'Mozilla/5.0 (Windows NT 10.0; Win64; x64) AppleWebKit/537.36 (KHTML, like Gecko) Chrome/133.0.0.0 Safari/537.36', 'creationdate': '2025-02-21T05:58:26+00:00', 'title': 'Definitions and basic concepts | DevOps with Docker', 'moddate': '2025-02-21T05:58:26+00:00', 'source': 'Docker.pdf', 'total_pages': 13, 'page': 11, 'page_label': '12'}, page_content='command explain shorthand\\ndocker image ls Lists all images\\n docker\\nimages\\ndocker image rm <image> Removes an image docker rmi\\ndocker image pull <image> Pulls image from a docker registrydocker pull\\ndocker container ls -a Lists all containers docker ps -a\\ndocker container run <image> Runs a container from an imagedocker run\\ndocker container rm\\n<container> Removes a container docker rm\\ndocker container stop\\n<container> Stops a container docker stop\\ndocker container exec\\n<container>\\nExecutes a command inside the\\ncontainer\\xa0 docker exec\\nFor all of them container can be either the container id or the container name. Same for images.\\nIn the future we may use the shorthands in the material.\\nSome of the shorthands are legacy version of doing the same thing. You can use either.\\nExercises 1.1-1.2\\nEXERCISE 1.1: GETTING STARTED\\nSince we already did \"Hello, World!\" in the material let\\'s do something else.\\nStart 3 containers from an image that does not automatically exit (such as nginx) in\\ndetached mode.\\nStop two of the containers and leave one container running.\\n2/21/25, 11:28 AM Definitions and basic concepts | DevOps with Docker\\nhttps://devopswithdocker.com/part-1/section-1 12/13'),\n",
       " Document(metadata={'producer': 'Skia/PDF m133', 'creator': 'Mozilla/5.0 (Windows NT 10.0; Win64; x64) AppleWebKit/537.36 (KHTML, like Gecko) Chrome/133.0.0.0 Safari/537.36', 'creationdate': '2025-02-21T05:58:26+00:00', 'title': 'Definitions and basic concepts | DevOps with Docker', 'moddate': '2025-02-21T05:58:26+00:00', 'source': 'Docker.pdf', 'total_pages': 13, 'page': 12, 'page_label': '13'}, page_content='Submit the output for docker ps -a which shows 2 stopped containers and one running.\\nEXERCISE 1.2: CLEANUP\\nWe have containers and an image that are no longer in use and are taking up space.\\nRunning docker ps -a and docker image ls will confirm this.\\nClean the Docker daemon by removing all images and containers.\\nSubmit the output for docker ps -a and docker image ls\\nEdit this page\\n2/21/25, 11:28 AM Definitions and basic concepts | DevOps with Docker\\nhttps://devopswithdocker.com/part-1/section-1 13/13')]"
      ]
     },
     "execution_count": 4,
     "metadata": {},
     "output_type": "execute_result"
    }
   ],
   "source": [
    "from langchain_community.document_loaders import PyPDFLoader\n",
    "\n",
    "loader = PyPDFLoader(\"Docker.pdf\")\n",
    "pages = loader.load_and_split()\n",
    "pages"
   ]
  },
  {
   "cell_type": "code",
   "execution_count": null,
   "metadata": {},
   "outputs": [
    {
     "data": {
      "text/plain": [
       "'\\nAnswer the question based on the context below. if you can\\'t answer the question, reply with \"I don\\'t know\".\\n\\nContext: Here is some context\\n\\nQuestion: Here is a question\\n'"
      ]
     },
     "execution_count": 5,
     "metadata": {},
     "output_type": "execute_result"
    }
   ],
   "source": [
    "from langchain.prompts import PromptTemplate\n",
    "\n",
    "template = \"\"\"\n",
    "Answer the question based on the context below. if you can't answer the question, reply with \"I don't know\".\n",
    "\n",
    "Context: {context}\n",
    "\n",
    "Question: {question}\n",
    "\"\"\"\n",
    "\n",
    "prompt = PromptTemplate.from_template(template)\n",
    "prompt.format(context=\"Here is some context\", question=\"Here is a question\")"
   ]
  },
  {
   "cell_type": "code",
   "execution_count": null,
   "metadata": {},
   "outputs": [],
   "source": [
    "chain = prompt | model | parser"
   ]
  },
  {
   "cell_type": "code",
   "execution_count": null,
   "metadata": {},
   "outputs": [
    {
     "data": {
      "text/plain": [
       "\"I don't know.\""
      ]
     },
     "execution_count": 7,
     "metadata": {},
     "output_type": "execute_result"
    }
   ],
   "source": [
    "chain.invoke(\n",
    "  {\n",
    "    \"context\": \"\",\n",
    "    \"question\": \"\"\n",
    "  }\n",
    ")"
   ]
  },
  {
   "cell_type": "code",
   "execution_count": null,
   "metadata": {},
   "outputs": [
    {
     "name": "stderr",
     "output_type": "stream",
     "text": [
      "d:\\Python\\.venv\\Lib\\site-packages\\pydantic\\_migration.py:283: UserWarning: `pydantic.error_wrappers:ValidationError` has been moved to `pydantic:ValidationError`.\n",
      "  warnings.warn(f'`{import_path}` has been moved to `{new_location}`.')\n"
     ]
    }
   ],
   "source": [
    "from langchain_community.vectorstores import DocArrayInMemorySearch\n",
    "\n",
    "vectorstore = DocArrayInMemorySearch.from_documents(pages, embedding=embeddings)"
   ]
  },
  {
   "cell_type": "code",
   "execution_count": null,
   "metadata": {},
   "outputs": [
    {
     "data": {
      "text/plain": [
       "[Document(metadata={'producer': 'Skia/PDF m133', 'creator': 'Mozilla/5.0 (Windows NT 10.0; Win64; x64) AppleWebKit/537.36 (KHTML, like Gecko) Chrome/133.0.0.0 Safari/537.36', 'creationdate': '2025-02-21T05:58:26+00:00', 'title': 'Definitions and basic concepts | DevOps with Docker', 'moddate': '2025-02-21T05:58:26+00:00', 'source': 'Docker.pdf', 'total_pages': 13, 'page': 1, 'page_label': '2'}, page_content='become a DevOps specialist solely from this course, but you will get the skills to help you\\nnavigate in the increasingly containerized world.\\nDuring this course we will focus mainly on the packaging, releasing and configuring of the\\napplications. You will not be asked to plan or create new software. We will go over Docker and a\\nfew technologies that you may see in your daily life, these include e.g. Redis and Postgres. See\\nStackOverflow survey on how closely they correlate these technologies.\\nWhat is Docker?\\n\"Docker is a set of platform as a service (PaaS) products that use OS-level virtualization to deliver\\nsoftware in packages called containers.\" - from Wikipedia.\\nSo stripping the jargon we get two definitions:\\n1. Docker is a set of tools to deliver software in containers.\\n2. Containers are packages of software.\\nThe above image illustrates how containers include the application and its dependencies. These\\ncontainers are isolated so that they don\\'t interfere with each other or the software running\\noutside of the containers. In case you need to interact with them or enable interactions between\\nthem, Docker offers tools to do so.\\nBenefits from containers\\n2/21/25, 11:28 AM Definitions and basic concepts | DevOps with Docker\\nhttps://devopswithdocker.com/part-1/section-1 2/13'),\n",
       " Document(metadata={'producer': 'Skia/PDF m133', 'creator': 'Mozilla/5.0 (Windows NT 10.0; Win64; x64) AppleWebKit/537.36 (KHTML, like Gecko) Chrome/133.0.0.0 Safari/537.36', 'creationdate': '2025-02-21T05:58:26+00:00', 'title': 'Definitions and basic concepts | DevOps with Docker', 'moddate': '2025-02-21T05:58:26+00:00', 'source': 'Docker.pdf', 'total_pages': 13, 'page': 3, 'page_label': '4'}, page_content=\"You are brought into a dev team. They run a web app that uses other services when running: a\\nPostgres database, MongoDB, Redis and a number of others. Simple enough, you install whatever\\nis required to run the application and all of the applications that it depends on...\\nWhat a headache to start installing and then managing the development databases on your own\\nmachine.\\nThankfully, by the time you are told to do that you are already a Docker expert. With one\\ncommand you get an isolated application, like Postgres or Mongo, running in your machine.\\nScenario 4: Scaling\\nStarting and stopping a Docker container has little overhead. But when you run your own Netflix\\nor Facebook, you want to meet the changing demand. With some advanced tooling that we will\\nlearn about in parts 2 and 3, we can spin up multiple containers instantly and load balance traffic\\nbetween them.\\nContainer orchestration will be discussed in parts 2 and 3. But the simplest example: what\\nhappens when one application dies? The orchestration system notices it, splits traffic between the\\nworking replicas, and spins up a new container to replace the dead one.\\nVirtual machines\\nIsn't there already a solution for this? Virtual Machines are not the same as Containers - they\\nsolve different problems. We will not be looking into Virtual Machines in this course. However,\\nhere's a diagram to give you a rough idea of the difference.\\n2/21/25, 11:28 AM Definitions and basic concepts | DevOps with Docker\\nhttps://devopswithdocker.com/part-1/section-1 4/13\"),\n",
       " Document(metadata={'producer': 'Skia/PDF m133', 'creator': 'Mozilla/5.0 (Windows NT 10.0; Win64; x64) AppleWebKit/537.36 (KHTML, like Gecko) Chrome/133.0.0.0 Safari/537.36', 'creationdate': '2025-02-21T05:58:26+00:00', 'title': 'Definitions and basic concepts | DevOps with Docker', 'moddate': '2025-02-21T05:58:26+00:00', 'source': 'Docker.pdf', 'total_pages': 13, 'page': 4, 'page_label': '5'}, page_content='The difference between a virtual machine and Docker solutions arises after moving Application A\\nto an incompatible system \"Operating System B\". Running software on top of containers is\\nalmost as efficient as running it \"natively\" outside containers, at least when compared to virtual\\nmachines.\\nSo containers have a direct access to your own Operating Systems kernel and resources. The\\nresource usage overhead of using containers is minimized, as the applications behave as if there\\nwere no extra layers. As Docker is using Linux kernels, Mac and Windows can\\'t run it without a\\nfew hoops and each have their own solutions on how to run Docker.\\nRunning containers\\nYou already have Docker installed so let\\'s run our first container!\\nThe hello-world is a simple application that outputs \"Hello from Docker!\" and some additional\\ninfo.\\nSimply run docker container run hello-world, the output will be the following:\\n$ docker container run hello-world\\n  Unable to find image \\'hello-world:latest\\' locally\\n  latest: Pulling from library/hello-world\\n2/21/25, 11:28 AM Definitions and basic concepts | DevOps with Docker\\nhttps://devopswithdocker.com/part-1/section-1 5/13'),\n",
       " Document(metadata={'producer': 'Skia/PDF m133', 'creator': 'Mozilla/5.0 (Windows NT 10.0; Win64; x64) AppleWebKit/537.36 (KHTML, like Gecko) Chrome/133.0.0.0 Safari/537.36', 'creationdate': '2025-02-21T05:58:26+00:00', 'title': 'Definitions and basic concepts | DevOps with Docker', 'moddate': '2025-02-21T05:58:26+00:00', 'source': 'Docker.pdf', 'total_pages': 13, 'page': 7, 'page_label': '8'}, page_content=\"Containers are created from images, so when we ran hello-world twice we downloaded one\\nimage and created two of them from the single image.\\nWell then, if images are used to create containers, where do images come from? This image file is\\nbuilt from an instructional file named Dockerfile that is parsed when you run \\ndocker image\\nbuild.\\nDockerfile is a file that is by default called Dockerfile, that looks something like this\\nDockerfile\\nand is the instruction set for building an image. We will look into Dockerfiles later when we get to\\nbuild our own image.\\nIf we go back to the cooking metaphor, as Dockerfile provides the instructions needed to build\\nan image you can think of that as the recipe for images. We're now 2 recipes deep, as Dockerfile\\nis the recipe for an image and an image is the recipe for a container. The only difference is that\\nDockerfile is written by us, whereas image is written by our machine based on the Dockerfile!\\nContainer\\nContainers only contain what is required to execute an application; and you can start, stop and\\ninteract with them. They are isolated environments in the host machine with the ability to\\ninteract with each other and the host machine itself via defined methods (TCP/UDP).\\nList all your containers with docker container ls\\nWithout -a flag it will only print running containers. The hello-worlds we ran already exited.\\nFROM <image>:<tag>\\nRUN <install some dependencies>\\nCMD <command that is executed on `docker container run`>\\n$ docker container ls\\n  CONTAINER ID   IMAGE     COMMAND   CREATED   STATUS    PORTS     NAMES\\n$ docker container ls -a\\n  CONTAINER ID   IMAGE           COMMAND      CREATED          STATUS            \\n2/21/25, 11:28 AM Definitions and basic concepts | DevOps with Docker\\nhttps://devopswithdocker.com/part-1/section-1 8/13\")]"
      ]
     },
     "execution_count": 9,
     "metadata": {},
     "output_type": "execute_result"
    }
   ],
   "source": [
    "retriever = vectorstore.as_retriever()\n",
    "retriever.invoke(\"tell me about Docker\")"
   ]
  },
  {
   "cell_type": "code",
   "execution_count": null,
   "metadata": {},
   "outputs": [
    {
     "data": {
      "text/plain": [
       "'Based on the provided text, Docker is a set of tools to deliver software in containers.  Containers are packages of software that include the application and its dependencies, and are isolated from each other and the software running outside of them.'"
      ]
     },
     "execution_count": 10,
     "metadata": {},
     "output_type": "execute_result"
    }
   ],
   "source": [
    "from operator import itemgetter\n",
    "chain = {\n",
    "  \"context\": itemgetter(\"question\")|retriever,\n",
    "  \"question\" : itemgetter(\"question\")\n",
    "} | prompt | model | parser\n",
    "\n",
    "chain.invoke({\n",
    "  \"question\": \"What is Docker?\"\n",
    "})"
   ]
  },
  {
   "cell_type": "code",
   "execution_count": null,
   "metadata": {},
   "outputs": [
    {
     "name": "stdout",
     "output_type": "stream",
     "text": [
      "Question: What is the purpose of the course?\n",
      "Answer: The course focuses on the packaging, releasing, and configuring of applications using Docker and related technologies like Redis and Postgres.  It will not cover planning or creating new software.\n",
      "Question: What is DevOps?\n",
      "Answer: According to the text, DevOps is a development methodology aimed at bridging the gap between Development and Operations, emphasizing communication and collaboration, continuous integration, quality assurance and delivery with automated deployment utilizing a set of development practices.  A simpler definition is that the release, configuring, and monitoring of software is in the hands of the developers.\n",
      "Question: What is a container and what are the benefits of using containers?\n",
      "Answer: Based on the provided text, a container is a package of software that includes the application and its dependencies.  The benefits of using containers include:\n",
      "\n",
      "* **Solving the \"works on my machine\" problem:** Containers ensure consistent environments, preventing discrepancies between development and production environments.\n",
      "* **Creating isolated environments:**  Containers allow multiple applications with different dependencies (e.g., different Python versions) to run concurrently without interfering with each other.\n",
      "* **Simplifying development:** Containers streamline the process of setting up and managing development databases and other dependencies.\n",
      "* **Enabling scaling:** Containers can be easily started and stopped, enabling efficient scaling to meet changing demands and facilitating automated recovery from application failures.\n",
      "Question: How to run containers on our machines?\n",
      "Answer: The provided text states that to run a container, you need to have Docker installed.  Then, you can run a command such as  `docker container run hello-world` (or the shorter `docker run hello-world`).  The text also notes that because Docker uses Linux kernels, running it on Mac and Windows requires additional steps and solutions specific to those operating systems.\n",
      "Question: What programming languages are used in the course?\n",
      "Answer: I don't know.  The provided text mentions several technologies (Docker, Redis, Postgres) but doesn't specify which programming languages are used in the course.\n"
     ]
    }
   ],
   "source": [
    "questions = [\n",
    "  \"What is the purpose of the course?\",\n",
    "  \"What is DevOps?\",\n",
    "  \"What is a container and what are the benefits of using containers?\",\n",
    "  \"How to run containers on our machines?\",\n",
    "  \"What programming languages are used in the course?\",\n",
    "]\n",
    "\n",
    "for question in questions:\n",
    "  print(f\"Question: {question}\")\n",
    "  print(f\"Answer: {chain.invoke({\"question\": question})}\")"
   ]
  },
  {
   "cell_type": "code",
   "execution_count": null,
   "metadata": {},
   "outputs": [],
   "source": []
  },
  {
   "cell_type": "code",
   "execution_count": null,
   "metadata": {},
   "outputs": [],
   "source": []
  }
 ],
 "metadata": {
  "kernelspec": {
   "display_name": ".venv",
   "language": "python",
   "name": "python3"
  },
  "language_info": {
   "codemirror_mode": {
    "name": "ipython",
    "version": 3
   },
   "file_extension": ".py",
   "mimetype": "text/x-python",
   "name": "python",
   "nbconvert_exporter": "python",
   "pygments_lexer": "ipython3",
   "version": "3.13.2"
  }
 },
 "nbformat": 4,
 "nbformat_minor": 2
}
